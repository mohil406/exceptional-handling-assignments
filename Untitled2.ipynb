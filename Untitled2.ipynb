{
 "cells": [
  {
   "cell_type": "code",
   "execution_count": 1,
   "id": "e7f30a2f-ac7a-419d-8e14-7cc30df76f06",
   "metadata": {},
   "outputs": [],
   "source": [
    "# Answer No.1 -->"
   ]
  },
  {
   "cell_type": "markdown",
   "id": "7b3e376f-31fb-4e21-8209-fdc93a6be4c7",
   "metadata": {},
   "source": [
    "Exception is a collection of all types of error that occur's when we code the any program.\n",
    "difference between exception and syntax error is exception is collection of all types of errors but syntax error is the error that occurs when we use wrong syntax. like for example -> in case of print statement if we forgot parenthesis , if we forgot colon while using loops or while defining a function."
   ]
  },
  {
   "cell_type": "code",
   "execution_count": 4,
   "id": "c0a6a927-b6ef-49a0-aece-9e59c965616a",
   "metadata": {},
   "outputs": [
    {
     "ename": "SyntaxError",
     "evalue": "Missing parentheses in call to 'print'. Did you mean print(...)? (2397032902.py, line 1)",
     "output_type": "error",
     "traceback": [
      "\u001b[0;36m  Cell \u001b[0;32mIn[4], line 1\u001b[0;36m\u001b[0m\n\u001b[0;31m    print hiii\u001b[0m\n\u001b[0m    ^\u001b[0m\n\u001b[0;31mSyntaxError\u001b[0m\u001b[0;31m:\u001b[0m Missing parentheses in call to 'print'. Did you mean print(...)?\n"
     ]
    }
   ],
   "source": [
    "print hiii"
   ]
  },
  {
   "cell_type": "code",
   "execution_count": 5,
   "id": "c47d0e07-0dc7-425a-aba0-cd420a7d6f3f",
   "metadata": {},
   "outputs": [],
   "source": [
    "# here we clerly see that it will shown syntax error due to missing parenthesis."
   ]
  },
  {
   "cell_type": "code",
   "execution_count": 7,
   "id": "504c7051-20fa-49cb-a440-9c6d6948426c",
   "metadata": {},
   "outputs": [
    {
     "ename": "SyntaxError",
     "evalue": "expected ':' (3585445445.py, line 1)",
     "output_type": "error",
     "traceback": [
      "\u001b[0;36m  Cell \u001b[0;32mIn[7], line 1\u001b[0;36m\u001b[0m\n\u001b[0;31m    for i in range(10)\u001b[0m\n\u001b[0m                       ^\u001b[0m\n\u001b[0;31mSyntaxError\u001b[0m\u001b[0;31m:\u001b[0m expected ':'\n"
     ]
    }
   ],
   "source": [
    "for i in range(10) \n",
    "print(i)"
   ]
  },
  {
   "cell_type": "code",
   "execution_count": 9,
   "id": "e4d66d3d-91c9-4caf-970a-388290c368a1",
   "metadata": {},
   "outputs": [
    {
     "ename": "SyntaxError",
     "evalue": "expected ':' (793348955.py, line 1)",
     "output_type": "error",
     "traceback": [
      "\u001b[0;36m  Cell \u001b[0;32mIn[9], line 1\u001b[0;36m\u001b[0m\n\u001b[0;31m    def test()\u001b[0m\n\u001b[0m               ^\u001b[0m\n\u001b[0;31mSyntaxError\u001b[0m\u001b[0;31m:\u001b[0m expected ':'\n"
     ]
    }
   ],
   "source": [
    "def test() \n",
    " "
   ]
  },
  {
   "cell_type": "code",
   "execution_count": 10,
   "id": "4bf288bf-4978-4673-b3b5-715154310959",
   "metadata": {},
   "outputs": [],
   "source": [
    "# Answer No. 2 -->"
   ]
  },
  {
   "cell_type": "markdown",
   "id": "0b99e879-f87b-4de2-8723-0ac7ce1bbd6c",
   "metadata": {},
   "source": [
    "If an exception is not handled then it will block the process of execution of code and as exception occurs at any point all the programs below it not executed that will lead to program inefficiency. for example ->"
   ]
  },
  {
   "cell_type": "code",
   "execution_count": 13,
   "id": "dc38b657-9e5d-4187-9b1e-893ad2482691",
   "metadata": {},
   "outputs": [
    {
     "name": "stdout",
     "output_type": "stream",
     "text": [
      "hello world\n"
     ]
    },
    {
     "ename": "ZeroDivisionError",
     "evalue": "division by zero",
     "output_type": "error",
     "traceback": [
      "\u001b[0;31m---------------------------------------------------------------------------\u001b[0m",
      "\u001b[0;31mZeroDivisionError\u001b[0m                         Traceback (most recent call last)",
      "Cell \u001b[0;32mIn[13], line 3\u001b[0m\n\u001b[1;32m      1\u001b[0m \u001b[38;5;28mprint\u001b[39m(\u001b[38;5;124m\"\u001b[39m\u001b[38;5;124mhello world\u001b[39m\u001b[38;5;124m\"\u001b[39m)\n\u001b[1;32m      2\u001b[0m a \u001b[38;5;241m=\u001b[39m \u001b[38;5;241m10\u001b[39m \n\u001b[0;32m----> 3\u001b[0m \u001b[43ma\u001b[49m\u001b[38;5;241;43m/\u001b[39;49m\u001b[38;5;241;43m0\u001b[39;49m\n\u001b[1;32m      4\u001b[0m \u001b[38;5;28mprint\u001b[39m(\u001b[38;5;124m\"\u001b[39m\u001b[38;5;124mthis is my print\u001b[39m\u001b[38;5;124m\"\u001b[39m)\n\u001b[1;32m      5\u001b[0m a \u001b[38;5;241m+\u001b[39m \u001b[38;5;241m5\u001b[39m \n",
      "\u001b[0;31mZeroDivisionError\u001b[0m: division by zero"
     ]
    }
   ],
   "source": [
    "print(\"hello world\")\n",
    "a = 10 \n",
    "a/0\n",
    "print(\"this is my print\")\n",
    "a + 5 "
   ]
  },
  {
   "cell_type": "code",
   "execution_count": 14,
   "id": "03e1a44b-813a-4345-8781-9ae8d4f18b1e",
   "metadata": {},
   "outputs": [],
   "source": [
    "# here we clearly see error occurs at 3rd line due to which 4th and 5th line is not executed."
   ]
  },
  {
   "cell_type": "code",
   "execution_count": 15,
   "id": "dc1b8577-d4b7-4945-a26e-bce7da13a3ce",
   "metadata": {},
   "outputs": [],
   "source": [
    "# Answer No.3 -->"
   ]
  },
  {
   "cell_type": "markdown",
   "id": "3600e5ea-493d-4960-bdeb-6aaea69b2b4a",
   "metadata": {},
   "source": [
    "try and except python statement are used to catch and handle the exception.try will catch the exception and except will handled the exception. for example ->"
   ]
  },
  {
   "cell_type": "code",
   "execution_count": 20,
   "id": "5af8a775-46f8-405a-a88d-3bd1d13f145c",
   "metadata": {},
   "outputs": [
    {
     "name": "stdout",
     "output_type": "stream",
     "text": [
      "hello\n",
      "division by zero\n",
      "world\n"
     ]
    },
    {
     "data": {
      "text/plain": [
       "5.0"
      ]
     },
     "execution_count": 20,
     "metadata": {},
     "output_type": "execute_result"
    }
   ],
   "source": [
    "try :\n",
    "    print(\"hello\")\n",
    "    10/0\n",
    "except Exception as e :\n",
    "    print(e)\n",
    "print(\"world\")\n",
    "10/2"
   ]
  },
  {
   "cell_type": "code",
   "execution_count": 21,
   "id": "36b540a1-84db-40d9-9fce-ff7c85bfcffc",
   "metadata": {},
   "outputs": [],
   "source": [
    "# Answer No. 4 --> "
   ]
  },
  {
   "cell_type": "code",
   "execution_count": 28,
   "id": "0a5f8990-c710-4141-ae22-81b924ea961c",
   "metadata": {},
   "outputs": [
    {
     "name": "stdout",
     "output_type": "stream",
     "text": [
      "No exception occur's\n"
     ]
    }
   ],
   "source": [
    "#a)->\n",
    "try :\n",
    "    with open(\"text.txt\" , \"w\") as f :\n",
    "        f.write(\"hello\")\n",
    "except Exception as e :\n",
    "    print(e)\n",
    "else :\n",
    "    print(\"No exception occur's\")"
   ]
  },
  {
   "cell_type": "code",
   "execution_count": 27,
   "id": "2f02d0c6-28fc-4200-aafe-a9666480991a",
   "metadata": {},
   "outputs": [
    {
     "name": "stdout",
     "output_type": "stream",
     "text": [
      "[Errno 2] No such file or directory: 'text.txt1'\n"
     ]
    }
   ],
   "source": [
    "try :\n",
    "    f = open(\"text.txt1\" , \"r\")\n",
    "    f.read()\n",
    "        \n",
    "except Exception as e :\n",
    "    print(e)\n",
    "else :\n",
    "    print(\"No exception occur's\")"
   ]
  },
  {
   "cell_type": "markdown",
   "id": "30bb2cec-fec1-41ee-803d-fc5b45fcaf78",
   "metadata": {},
   "source": [
    "as we clearly see that if exception not occur's then else it running but if an exception is occurs then else is not  running.."
   ]
  },
  {
   "cell_type": "code",
   "execution_count": 29,
   "id": "25908dae-1039-4188-aa5f-03043c53c968",
   "metadata": {},
   "outputs": [
    {
     "name": "stdout",
     "output_type": "stream",
     "text": [
      "No exception occur's\n",
      "this will always run !\n"
     ]
    }
   ],
   "source": [
    "#b)-> finally can always run whether the error's occurs or not \n",
    "\n",
    "#a)->\n",
    "try :\n",
    "    with open(\"text.txt\" , \"w\") as f :\n",
    "        f.write(\"hello\")\n",
    "except Exception as e :\n",
    "    print(e)\n",
    "else :\n",
    "    print(\"No exception occur's\")\n",
    "finally :\n",
    "    print(\"this will always run !\")"
   ]
  },
  {
   "cell_type": "code",
   "execution_count": 30,
   "id": "47492a1c-c9ea-4da7-82a6-6d3f61eb4292",
   "metadata": {},
   "outputs": [
    {
     "name": "stdout",
     "output_type": "stream",
     "text": [
      "[Errno 2] No such file or directory: 'text.txt1'\n",
      "this will always run !\n"
     ]
    }
   ],
   "source": [
    "try :\n",
    "    f = open(\"text.txt1\" , \"r\")\n",
    "    f.read()\n",
    "        \n",
    "except Exception as e :\n",
    "    print(e)\n",
    "else :\n",
    "    print(\"No exception occur's\")\n",
    "finally :\n",
    "    print(\"this will always run !\")"
   ]
  },
  {
   "cell_type": "code",
   "execution_count": 31,
   "id": "d1034b7e-c38f-46c6-8659-17913c3764a0",
   "metadata": {},
   "outputs": [],
   "source": [
    "# c)-> raise keyword used in custom exceptional handling.\n",
    "\n",
    "class custom(Exception) :\n",
    "    def __init__(self , msg) :\n",
    "        self.msg = msg"
   ]
  },
  {
   "cell_type": "code",
   "execution_count": 32,
   "id": "06b538b4-70d0-42b4-b3e9-1de40ba56678",
   "metadata": {},
   "outputs": [],
   "source": [
    "def validateage(age) :\n",
    "    if age < 0 :\n",
    "        raise custom(\"entered age is negative\")\n",
    "    elif age > 150 :\n",
    "        raise custom(\"entered age is too large\")\n",
    "    else :\n",
    "        raise custom(\"entered age is valid\")"
   ]
  },
  {
   "cell_type": "code",
   "execution_count": 34,
   "id": "ce47dedd-9e39-4e53-aecc-068ae554345e",
   "metadata": {},
   "outputs": [
    {
     "name": "stdin",
     "output_type": "stream",
     "text": [
      "what's your age? 10\n"
     ]
    },
    {
     "name": "stdout",
     "output_type": "stream",
     "text": [
      "entered age is valid\n"
     ]
    }
   ],
   "source": [
    "try :\n",
    "    age = int(input(\"what's your age?\"))\n",
    "    validateage(age)\n",
    "except custom as e :\n",
    "    print(e)"
   ]
  },
  {
   "cell_type": "code",
   "execution_count": 35,
   "id": "e826f166-b10c-42a6-8b53-faa668e9706e",
   "metadata": {},
   "outputs": [],
   "source": [
    "# Answer No.5 -->"
   ]
  },
  {
   "cell_type": "markdown",
   "id": "5d9c9049-f8cb-4901-bc21-d33e0f8b2070",
   "metadata": {},
   "source": [
    "Custom Exception are user defined exceptions that can be implement by using raise keyword.\n",
    "We need custom exception's as Exception class is contains built-in exception but if we want to make our own exceptions then in that case we need custom exceptions. "
   ]
  },
  {
   "cell_type": "code",
   "execution_count": 36,
   "id": "3c65b16a-60dd-4e5a-a1b5-62b92ba9a347",
   "metadata": {},
   "outputs": [],
   "source": [
    "class custom(Exception) :\n",
    "    def __init__(self , msg) :\n",
    "        self.msg = msg\n",
    "\n",
    "def validateage(age) :\n",
    "    if age < 0 :\n",
    "        raise custom(\"entered age is negative\")\n",
    "    elif age > 150 :\n",
    "        raise custom(\"entered age is too large\")\n",
    "    else :\n",
    "        raise custom(\"entered age is valid\")"
   ]
  },
  {
   "cell_type": "code",
   "execution_count": 42,
   "id": "7a79e869-2b7c-492b-b3df-549d9f053285",
   "metadata": {},
   "outputs": [
    {
     "ename": "custom",
     "evalue": "entered age is too large",
     "output_type": "error",
     "traceback": [
      "\u001b[0;31m---------------------------------------------------------------------------\u001b[0m",
      "\u001b[0;31mcustom\u001b[0m                                    Traceback (most recent call last)",
      "Cell \u001b[0;32mIn[42], line 1\u001b[0m\n\u001b[0;32m----> 1\u001b[0m \u001b[43mvalidateage\u001b[49m\u001b[43m(\u001b[49m\u001b[38;5;241;43m160\u001b[39;49m\u001b[43m)\u001b[49m\n",
      "Cell \u001b[0;32mIn[36], line 9\u001b[0m, in \u001b[0;36mvalidateage\u001b[0;34m(age)\u001b[0m\n\u001b[1;32m      7\u001b[0m     \u001b[38;5;28;01mraise\u001b[39;00m custom(\u001b[38;5;124m\"\u001b[39m\u001b[38;5;124mentered age is negative\u001b[39m\u001b[38;5;124m\"\u001b[39m)\n\u001b[1;32m      8\u001b[0m \u001b[38;5;28;01melif\u001b[39;00m age \u001b[38;5;241m>\u001b[39m \u001b[38;5;241m150\u001b[39m :\n\u001b[0;32m----> 9\u001b[0m     \u001b[38;5;28;01mraise\u001b[39;00m custom(\u001b[38;5;124m\"\u001b[39m\u001b[38;5;124mentered age is too large\u001b[39m\u001b[38;5;124m\"\u001b[39m)\n\u001b[1;32m     10\u001b[0m \u001b[38;5;28;01melse\u001b[39;00m :\n\u001b[1;32m     11\u001b[0m     \u001b[38;5;28;01mraise\u001b[39;00m custom(\u001b[38;5;124m\"\u001b[39m\u001b[38;5;124mentered age is valid\u001b[39m\u001b[38;5;124m\"\u001b[39m)\n",
      "\u001b[0;31mcustom\u001b[0m: entered age is too large"
     ]
    }
   ],
   "source": [
    "validateage(160)"
   ]
  },
  {
   "cell_type": "code",
   "execution_count": 43,
   "id": "1dd0b1ee-39b7-4a7b-85f4-6e3059ef413c",
   "metadata": {},
   "outputs": [],
   "source": [
    "# here we clealy see that error shown are user defined errors."
   ]
  },
  {
   "cell_type": "code",
   "execution_count": 44,
   "id": "b87f6c05-b8c0-4d6e-8844-f9c4fb2e18de",
   "metadata": {},
   "outputs": [],
   "source": [
    "# Answer No. 6 -->"
   ]
  },
  {
   "cell_type": "code",
   "execution_count": 46,
   "id": "560acdb3-2d33-4ce2-8f7e-dd2316d2c0bf",
   "metadata": {},
   "outputs": [],
   "source": [
    "class custom(Exception) :\n",
    "    def __init__(self , msg) :\n",
    "        self.msg = msg\n",
    "\n",
    "def validateage(age) :\n",
    "    if age < 0 :\n",
    "        raise custom(\"entered age is negative\")\n",
    "    elif age > 150 :\n",
    "        raise custom(\"entered age is too large\")\n",
    "    else :\n",
    "        raise custom(\"entered age is valid\")"
   ]
  },
  {
   "cell_type": "code",
   "execution_count": 47,
   "id": "d8c2afa3-ed85-48a1-9153-c80073a74f04",
   "metadata": {},
   "outputs": [
    {
     "name": "stdin",
     "output_type": "stream",
     "text": [
      "what's your age? 100\n"
     ]
    },
    {
     "name": "stdout",
     "output_type": "stream",
     "text": [
      "entered age is valid\n"
     ]
    }
   ],
   "source": [
    "try :\n",
    "    age = int(input(\"what's your age?\"))\n",
    "    validateage(age)\n",
    "except custom as e :\n",
    "    print(e)"
   ]
  },
  {
   "cell_type": "code",
   "execution_count": null,
   "id": "62ebf011-34da-4dc7-820c-e0ca2cab1353",
   "metadata": {},
   "outputs": [],
   "source": []
  }
 ],
 "metadata": {
  "kernelspec": {
   "display_name": "Python 3 (ipykernel)",
   "language": "python",
   "name": "python3"
  },
  "language_info": {
   "codemirror_mode": {
    "name": "ipython",
    "version": 3
   },
   "file_extension": ".py",
   "mimetype": "text/x-python",
   "name": "python",
   "nbconvert_exporter": "python",
   "pygments_lexer": "ipython3",
   "version": "3.10.8"
  }
 },
 "nbformat": 4,
 "nbformat_minor": 5
}
