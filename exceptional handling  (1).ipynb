{
 "cells": [
  {
   "cell_type": "code",
   "execution_count": 1,
   "id": "2a5498b1-623f-4b01-95fb-b6cfbbd77bef",
   "metadata": {},
   "outputs": [],
   "source": [
    "# Answer No. 1 -->"
   ]
  },
  {
   "cell_type": "markdown",
   "id": "2555b225-095e-466e-b0e5-704a136d451d",
   "metadata": {},
   "source": [
    "We have to use an exception class because if we don't inherits it in our own class then TypeError takes place. Because suppose there is an error in our code that will beyond from our own custom exception class then it will shows TypeError. Let's understand it by example ->"
   ]
  },
  {
   "cell_type": "code",
   "execution_count": 2,
   "id": "74d353ff-0d2a-402e-a6d9-cf011c80911c",
   "metadata": {},
   "outputs": [],
   "source": [
    "#case 1 - When we inherits Exception class"
   ]
  },
  {
   "cell_type": "code",
   "execution_count": 3,
   "id": "7541b595-248e-40c4-9654-6c18c86fc3af",
   "metadata": {},
   "outputs": [],
   "source": [
    "class exception(Exception) :\n",
    "    def __init__(self , msg) :\n",
    "        self.msg = msg"
   ]
  },
  {
   "cell_type": "code",
   "execution_count": 4,
   "id": "1dbd54ec-6360-4bf6-8d67-db87d5cb84e0",
   "metadata": {},
   "outputs": [],
   "source": [
    "def validateage(age) :\n",
    "    if age < 0 :\n",
    "        raise exception(\"entered age is negative\")\n",
    "    elif age > 200 :\n",
    "        raise exception(\"entered age is too high\")\n",
    "    else :\n",
    "        raise exception(\"entered age is valid\")"
   ]
  },
  {
   "cell_type": "code",
   "execution_count": 5,
   "id": "90ce7ad8-f794-44d1-82bc-da6104ec3ea0",
   "metadata": {},
   "outputs": [
    {
     "ename": "ZeroDivisionError",
     "evalue": "division by zero",
     "output_type": "error",
     "traceback": [
      "\u001b[0;31m---------------------------------------------------------------------------\u001b[0m",
      "\u001b[0;31mZeroDivisionError\u001b[0m                         Traceback (most recent call last)",
      "Cell \u001b[0;32mIn[5], line 2\u001b[0m\n\u001b[1;32m      1\u001b[0m \u001b[38;5;28;01mtry\u001b[39;00m :\n\u001b[0;32m----> 2\u001b[0m     \u001b[38;5;241;43m10\u001b[39;49m\u001b[38;5;241;43m/\u001b[39;49m\u001b[38;5;241;43m0\u001b[39;49m\n\u001b[1;32m      3\u001b[0m     age \u001b[38;5;241m=\u001b[39m \u001b[38;5;28mint\u001b[39m(\u001b[38;5;28minput\u001b[39m(\u001b[38;5;124m\"\u001b[39m\u001b[38;5;124mWhat\u001b[39m\u001b[38;5;124m'\u001b[39m\u001b[38;5;124ms your age ?\u001b[39m\u001b[38;5;124m\"\u001b[39m))\n\u001b[1;32m      4\u001b[0m     validateage(age)\n",
      "\u001b[0;31mZeroDivisionError\u001b[0m: division by zero"
     ]
    }
   ],
   "source": [
    "try :\n",
    "    10/0\n",
    "    age = int(input(\"What's your age ?\"))\n",
    "    validateage(age)\n",
    "except exception as e :\n",
    "    print(e)"
   ]
  },
  {
   "cell_type": "code",
   "execution_count": 6,
   "id": "978bf556-0191-4c1f-853b-f68ad23382e9",
   "metadata": {},
   "outputs": [],
   "source": [
    "# here it is clearly shows zero division error."
   ]
  },
  {
   "cell_type": "code",
   "execution_count": 7,
   "id": "95113e3a-75ce-444b-9696-e5d75903d4b0",
   "metadata": {},
   "outputs": [],
   "source": [
    "#case 2 -> When we not inherits Exception class."
   ]
  },
  {
   "cell_type": "code",
   "execution_count": 10,
   "id": "a05a2e37-d4b8-48dc-a397-e558fb39a702",
   "metadata": {},
   "outputs": [],
   "source": [
    "class exception() :\n",
    "    def __init__(self , msg) :\n",
    "        self.msg = msg"
   ]
  },
  {
   "cell_type": "code",
   "execution_count": 11,
   "id": "98e7bd7a-f09e-4616-a82f-29d2cab45d3d",
   "metadata": {},
   "outputs": [
    {
     "ename": "TypeError",
     "evalue": "catching classes that do not inherit from BaseException is not allowed",
     "output_type": "error",
     "traceback": [
      "\u001b[0;31m---------------------------------------------------------------------------\u001b[0m",
      "\u001b[0;31mZeroDivisionError\u001b[0m                         Traceback (most recent call last)",
      "Cell \u001b[0;32mIn[11], line 2\u001b[0m\n\u001b[1;32m      1\u001b[0m \u001b[38;5;28;01mtry\u001b[39;00m :\n\u001b[0;32m----> 2\u001b[0m     \u001b[38;5;241;43m10\u001b[39;49m\u001b[38;5;241;43m/\u001b[39;49m\u001b[38;5;241;43m0\u001b[39;49m\n\u001b[1;32m      3\u001b[0m     age \u001b[38;5;241m=\u001b[39m \u001b[38;5;28mint\u001b[39m(\u001b[38;5;28minput\u001b[39m(\u001b[38;5;124m\"\u001b[39m\u001b[38;5;124mWhat\u001b[39m\u001b[38;5;124m'\u001b[39m\u001b[38;5;124ms your age ?\u001b[39m\u001b[38;5;124m\"\u001b[39m))\n",
      "\u001b[0;31mZeroDivisionError\u001b[0m: division by zero",
      "\nDuring handling of the above exception, another exception occurred:\n",
      "\u001b[0;31mTypeError\u001b[0m                                 Traceback (most recent call last)",
      "Cell \u001b[0;32mIn[11], line 5\u001b[0m\n\u001b[1;32m      3\u001b[0m     age \u001b[38;5;241m=\u001b[39m \u001b[38;5;28mint\u001b[39m(\u001b[38;5;28minput\u001b[39m(\u001b[38;5;124m\"\u001b[39m\u001b[38;5;124mWhat\u001b[39m\u001b[38;5;124m'\u001b[39m\u001b[38;5;124ms your age ?\u001b[39m\u001b[38;5;124m\"\u001b[39m))\n\u001b[1;32m      4\u001b[0m     validateage(age)\n\u001b[0;32m----> 5\u001b[0m \u001b[38;5;28;01mexcept\u001b[39;00m exception \u001b[38;5;28;01mas\u001b[39;00m e :\n\u001b[1;32m      6\u001b[0m     \u001b[38;5;28mprint\u001b[39m(e)\n",
      "\u001b[0;31mTypeError\u001b[0m: catching classes that do not inherit from BaseException is not allowed"
     ]
    }
   ],
   "source": [
    "try :\n",
    "    10/0\n",
    "    age = int(input(\"What's your age ?\"))\n",
    "    validateage(age)\n",
    "except exception as e :\n",
    "    print(e)"
   ]
  },
  {
   "cell_type": "code",
   "execution_count": 12,
   "id": "4dbeea00-0d2e-4435-9ada-25734f73da5d",
   "metadata": {},
   "outputs": [],
   "source": [
    "# it clealy say's that classes that do not inherits base Exception is not allowed.\n",
    "# so we have to inherits the base Exception class."
   ]
  },
  {
   "cell_type": "code",
   "execution_count": 20,
   "id": "4f015092-87ca-4477-b69f-290e24188223",
   "metadata": {},
   "outputs": [],
   "source": [
    "# Answer No.2 -->"
   ]
  },
  {
   "cell_type": "code",
   "execution_count": null,
   "id": "5a727cd4-b99c-405b-84db-cbe635923a19",
   "metadata": {},
   "outputs": [],
   "source": [
    "# import inspect module\n",
    "import inspect\n",
    "  \n",
    "# our treeClass function\n",
    "def treeClass(cls, ind = 0):\n",
    "    \n",
    "      # print name of the class\n",
    "    print ('-' * ind, cls.__name__)\n",
    "      \n",
    "    # iterating through subclasses\n",
    "    for i in cls.__subclasses__():\n",
    "        treeClass(i, ind + 3)\n",
    "  \n",
    "print(\"Hierarchy for Built-in exceptions is : \")\n",
    "  \n",
    "# inspect.getmro() Return a tuple \n",
    "# of class  cls’s base classes.\n",
    "  \n",
    "# building a tree hierarchy \n",
    "inspect.getclasstree(inspect.getmro(BaseException))\n",
    "  \n",
    "# function call\n",
    "treeClass(BaseException)"
   ]
  },
  {
   "cell_type": "code",
   "execution_count": 21,
   "id": "2f50dd72-22d5-4eff-b639-2053faa4b105",
   "metadata": {},
   "outputs": [],
   "source": [
    "# Answer No. 3 -->"
   ]
  },
  {
   "cell_type": "markdown",
   "id": "2101cd3b-f6e2-489e-91b9-15ae0cd6dd2e",
   "metadata": {},
   "source": [
    "There are total three arithmetic error's are defined in Arithmetic Error class. These are as follow's->\n",
    "1) FloatingPointError\n",
    "2) OverflowError\n",
    "3) ZeroDivisionError"
   ]
  },
  {
   "cell_type": "code",
   "execution_count": 22,
   "id": "bd523cdc-1207-46b8-974b-ec324d4bbb01",
   "metadata": {},
   "outputs": [],
   "source": [
    "# example of 2 -->"
   ]
  },
  {
   "cell_type": "code",
   "execution_count": 2,
   "id": "06eb97ba-7f62-4dcd-951e-284ef3cc1534",
   "metadata": {},
   "outputs": [
    {
     "name": "stdout",
     "output_type": "stream",
     "text": [
      "(34, 'Numerical result out of range'), <class 'OverflowError'>\n"
     ]
    }
   ],
   "source": [
    "j = 5.0\n",
    "\n",
    "try:\n",
    "    for i in range(1, 1000):\n",
    "        j = j**i\n",
    "except ArithmeticError as e:\n",
    "    print(f\"{e}, {e.__class__}\")"
   ]
  },
  {
   "cell_type": "code",
   "execution_count": 4,
   "id": "f9dabdf3-1b4f-423c-95d9-5e1b9fdb1bf8",
   "metadata": {},
   "outputs": [],
   "source": [
    "# example of 3 -->"
   ]
  },
  {
   "cell_type": "code",
   "execution_count": 3,
   "id": "bb5f0ce3-ad86-445c-bf62-f9014dee386b",
   "metadata": {},
   "outputs": [
    {
     "name": "stdout",
     "output_type": "stream",
     "text": [
      "division by zero , <class 'ZeroDivisionError'>\n"
     ]
    }
   ],
   "source": [
    "try :\n",
    "    10/0 \n",
    "except ArithmeticError as e :\n",
    "    print(f\"{e} , {e.__class__}\")"
   ]
  },
  {
   "cell_type": "code",
   "execution_count": 5,
   "id": "3bb4f988-7474-4acd-8ea0-ffc8e303b8c1",
   "metadata": {},
   "outputs": [],
   "source": [
    "# Answer No. 4 -->"
   ]
  },
  {
   "cell_type": "markdown",
   "id": "7fccf0cf-c7c2-4fc3-9b53-afaf250d356a",
   "metadata": {},
   "source": [
    "LockUp error class is used because it will acts an base class for type of errors where something is not found, these errors are IndexError , KeyError ."
   ]
  },
  {
   "cell_type": "code",
   "execution_count": 7,
   "id": "b29e2480-d4ad-460b-a967-13c7e646b100",
   "metadata": {},
   "outputs": [],
   "source": [
    "dic = {\"key1\" : \"mohil\" , \"key2\" : \"Dubey\"}"
   ]
  },
  {
   "cell_type": "code",
   "execution_count": 8,
   "id": "1908be4d-0f84-4eaa-984f-58164d9a7998",
   "metadata": {},
   "outputs": [
    {
     "ename": "KeyError",
     "evalue": "'key3'",
     "output_type": "error",
     "traceback": [
      "\u001b[0;31m---------------------------------------------------------------------------\u001b[0m",
      "\u001b[0;31mKeyError\u001b[0m                                  Traceback (most recent call last)",
      "Cell \u001b[0;32mIn[8], line 1\u001b[0m\n\u001b[0;32m----> 1\u001b[0m \u001b[43mdic\u001b[49m\u001b[43m[\u001b[49m\u001b[38;5;124;43m\"\u001b[39;49m\u001b[38;5;124;43mkey3\u001b[39;49m\u001b[38;5;124;43m\"\u001b[39;49m\u001b[43m]\u001b[49m\n",
      "\u001b[0;31mKeyError\u001b[0m: 'key3'"
     ]
    }
   ],
   "source": [
    "dic[\"key3\"]"
   ]
  },
  {
   "cell_type": "code",
   "execution_count": 9,
   "id": "8e86fd58-4b57-4349-a4bc-3bab47de93ff",
   "metadata": {},
   "outputs": [
    {
     "ename": "IndexError",
     "evalue": "list index out of range",
     "output_type": "error",
     "traceback": [
      "\u001b[0;31m---------------------------------------------------------------------------\u001b[0m",
      "\u001b[0;31mIndexError\u001b[0m                                Traceback (most recent call last)",
      "Cell \u001b[0;32mIn[9], line 2\u001b[0m\n\u001b[1;32m      1\u001b[0m list_1 \u001b[38;5;241m=\u001b[39m [\u001b[38;5;241m0\u001b[39m,\u001b[38;5;241m1\u001b[39m,\u001b[38;5;241m2\u001b[39m,\u001b[38;5;241m3\u001b[39m,\u001b[38;5;241m4\u001b[39m,\u001b[38;5;241m5\u001b[39m]\n\u001b[0;32m----> 2\u001b[0m \u001b[43mlist_1\u001b[49m\u001b[43m[\u001b[49m\u001b[38;5;241;43m6\u001b[39;49m\u001b[43m]\u001b[49m\n",
      "\u001b[0;31mIndexError\u001b[0m: list index out of range"
     ]
    }
   ],
   "source": [
    "list_1 = [0,1,2,3,4,5]\n",
    "list_1[6]"
   ]
  },
  {
   "cell_type": "code",
   "execution_count": 10,
   "id": "950aaab9-1c64-478a-904f-48fa86cb19f6",
   "metadata": {},
   "outputs": [],
   "source": [
    "# Answer No. 5 -->"
   ]
  },
  {
   "cell_type": "markdown",
   "id": "1b9388f7-2da5-4dce-89d0-9550d929830d",
   "metadata": {},
   "source": [
    "Import error is occurs when class is not imported because of many reasons. class is not found ,The imported class is in a circular dependency and etc. for example -->"
   ]
  },
  {
   "cell_type": "code",
   "execution_count": 13,
   "id": "e785f64e-c42a-4b09-b212-035b37680666",
   "metadata": {},
   "outputs": [
    {
     "ename": "ModuleNotFoundError",
     "evalue": "No module named 'mohil'",
     "output_type": "error",
     "traceback": [
      "\u001b[0;31m---------------------------------------------------------------------------\u001b[0m",
      "\u001b[0;31mModuleNotFoundError\u001b[0m                       Traceback (most recent call last)",
      "Cell \u001b[0;32mIn[13], line 1\u001b[0m\n\u001b[0;32m----> 1\u001b[0m \u001b[38;5;28;01mimport\u001b[39;00m \u001b[38;5;21;01mmohil\u001b[39;00m\n",
      "\u001b[0;31mModuleNotFoundError\u001b[0m: No module named 'mohil'"
     ]
    }
   ],
   "source": [
    "import mohil"
   ]
  },
  {
   "cell_type": "code",
   "execution_count": 14,
   "id": "20b3aedf-1228-4a21-8cb5-e3e38f21f927",
   "metadata": {},
   "outputs": [],
   "source": [
    "# when we want to import module that will not exist in python then import error occur's.."
   ]
  },
  {
   "cell_type": "code",
   "execution_count": 15,
   "id": "391f2afb-c205-4754-a6dc-9fe7bd6d8d61",
   "metadata": {},
   "outputs": [],
   "source": [
    "# Answer No. 6 -->"
   ]
  },
  {
   "cell_type": "code",
   "execution_count": 16,
   "id": "adbdbb5f-f377-465d-acdf-2d274be85363",
   "metadata": {},
   "outputs": [],
   "source": [
    "# Best pratice in Exeptional Handling are as follows -->"
   ]
  },
  {
   "cell_type": "code",
   "execution_count": 17,
   "id": "5e62ecaf-2727-4cad-b264-a84d16f1e17d",
   "metadata": {},
   "outputs": [],
   "source": [
    "# 1) Use specific Exception's instead of using Exception Base class. for example ->"
   ]
  },
  {
   "cell_type": "code",
   "execution_count": 18,
   "id": "fff77b7b-ebc6-4290-a450-870d319f3fd7",
   "metadata": {},
   "outputs": [
    {
     "name": "stdout",
     "output_type": "stream",
     "text": [
      "division by zero\n"
     ]
    }
   ],
   "source": [
    "try :\n",
    "    10/0\n",
    "except ZeroDivisionError as e :\n",
    "    print(e)"
   ]
  },
  {
   "cell_type": "code",
   "execution_count": 28,
   "id": "5b748ba0-b398-4dfc-aad0-27c12a6b80c3",
   "metadata": {},
   "outputs": [],
   "source": [
    "# 2) Do not use too many except statement's use most specific Exception. for example ->"
   ]
  },
  {
   "cell_type": "code",
   "execution_count": 27,
   "id": "fbf73675-8c78-48e4-b71a-a8173871be01",
   "metadata": {},
   "outputs": [
    {
     "name": "stdout",
     "output_type": "stream",
     "text": [
      "[Errno 2] No such file or directory: 'text.txt1'\n"
     ]
    }
   ],
   "source": [
    "try :\n",
    "    f = open(\"text.txt1\" , \"r\")\n",
    "    f.read()\n",
    "except TypeError as e :\n",
    "    print(e)\n",
    "except IndexError as e :\n",
    "    print(e)\n",
    "except FileNotFoundError as e :\n",
    "    print(e)\n",
    "    "
   ]
  },
  {
   "cell_type": "markdown",
   "id": "1a013453-db31-44b9-81e6-c912e0367196",
   "metadata": {},
   "source": [
    " 3) If we open any file,then we have to close it as well because if it remains open then it will hold's the resources due to which other processes are waiting for that resources so we have to close file's so that resources are released as well."
   ]
  },
  {
   "cell_type": "code",
   "execution_count": 29,
   "id": "b885f3fe-42aa-4913-bc94-7ccb10671b38",
   "metadata": {},
   "outputs": [],
   "source": [
    "try :\n",
    "    f = open(\"text.txt\" , \"w\")\n",
    "    f.write(\"hello\")\n",
    "    f.close()\n",
    "except Exception as e :\n",
    "    print(e)"
   ]
  },
  {
   "cell_type": "code",
   "execution_count": null,
   "id": "aa701d79-3adf-4f51-ba04-5046f2f0845a",
   "metadata": {},
   "outputs": [],
   "source": []
  }
 ],
 "metadata": {
  "kernelspec": {
   "display_name": "Python 3 (ipykernel)",
   "language": "python",
   "name": "python3"
  },
  "language_info": {
   "codemirror_mode": {
    "name": "ipython",
    "version": 3
   },
   "file_extension": ".py",
   "mimetype": "text/x-python",
   "name": "python",
   "nbconvert_exporter": "python",
   "pygments_lexer": "ipython3",
   "version": "3.10.8"
  }
 },
 "nbformat": 4,
 "nbformat_minor": 5
}
